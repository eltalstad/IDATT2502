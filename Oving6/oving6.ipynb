{
 "cells": [
  {
   "cell_type": "code",
   "execution_count": 18,
   "id": "82d3984f-9e0c-4f65-83d0-d9b6aea9fd9f",
   "metadata": {},
   "outputs": [],
   "source": [
    "from sklearn import decomposition\n",
    "from sklearn.feature_selection import SelectKBest\n",
    "from sklearn.feature_selection import chi2\n",
    "import pandas as pd\n",
    "import matplotlib.pyplot as plt"
   ]
  },
  {
   "cell_type": "code",
   "execution_count": 19,
   "id": "fe62192f-3fba-40e4-b2c3-7c1ec6b4ca8f",
   "metadata": {},
   "outputs": [
    {
     "name": "stdout",
     "output_type": "stream",
     "text": [
      "X shape: (8124, 117)\n",
      "Y shape: (8124, 2)\n"
     ]
    }
   ],
   "source": [
    "data = pd.read_csv('./agaricus-lepiota.data')\n",
    "\n",
    "y = pd.get_dummies(data['edibility'])\n",
    "x = data.drop(['edibility'], axis=1)\n",
    "x = pd.get_dummies(x)\n",
    "\n",
    "print(\"X shape:\", x.shape)\n",
    "print(\"Y shape:\", y.shape)"
   ]
  },
  {
   "cell_type": "code",
   "execution_count": 20,
   "id": "6440f6b3-069b-441d-819d-9848abb9999d",
   "metadata": {},
   "outputs": [
    {
     "name": "stdout",
     "output_type": "stream",
     "text": [
      "skb shape: (8124, 5)\n"
     ]
    }
   ],
   "source": [
    "skb = SelectKBest(chi2, k=5)\n",
    "skb.fit(x, y)\n",
    "x_new = skb.transform(x)\n",
    "\n",
    "print(\"skb shape:\", x_new.shape)"
   ]
  },
  {
   "cell_type": "code",
   "execution_count": 21,
   "id": "85555a4d-3eb0-4f25-8f07-b55ffa6def97",
   "metadata": {},
   "outputs": [
    {
     "name": "stdout",
     "output_type": "stream",
     "text": [
      "Selected features: odor_f, odor_n, gill-color_b, stalk-surface-above-ring_k, stalk-surface-below-ring_k\n"
     ]
    }
   ],
   "source": [
    "selected = [x.columns[i] for i in skb.get_support(indices=True)] # Corrected line\n",
    "print(\"Selected features:\", \", \".join(selected))"
   ]
  },
  {
   "cell_type": "code",
   "execution_count": 22,
   "id": "d42f89c2-a409-440a-ab7e-5769e0600dd7",
   "metadata": {},
   "outputs": [
    {
     "name": "stdout",
     "output_type": "stream",
     "text": [
      "Original space: (8124, 117)\n",
      "PCA space: (8124, 5)\n",
      "Features in which gives max variance: bruises?_f, spore-print-color_h, habitat_g, stalk-shape_t, odor_n\n"
     ]
    }
   ],
   "source": [
    "print(\"Original space:\", x.shape)\n",
    "pca = decomposition.PCA(n_components=5)\n",
    "pca.fit(x)\n",
    "Xpca = pca.transform(x)\n",
    "\n",
    "print(\"PCA space:\",Xpca.shape)\n",
    "best_features = [pca.components_[i].argmax() for i in range(Xpca.shape[1])]\n",
    "feature_names = [x.columns[best_features[i]] for i in range(Xpca.shape[1])]\n",
    "print(\"Features in which gives max variance:\", \", \".join(feature_names))"
   ]
  },
  {
   "cell_type": "code",
   "execution_count": 23,
   "id": "1040509b",
   "metadata": {
    "collapsed": false,
    "jupyter": {
     "outputs_hidden": false
    }
   },
   "outputs": [
    {
     "data": {
      "text/plain": [
       "{'odor_n'}"
      ]
     },
     "execution_count": 23,
     "metadata": {},
     "output_type": "execute_result"
    }
   ],
   "source": [
    "set(selected).intersection(set(feature_names))"
   ]
  }
 ],
 "metadata": {
  "kernelspec": {
   "display_name": "Python 3 (ipykernel)",
   "language": "python",
   "name": "python3"
  },
  "language_info": {
   "codemirror_mode": {
    "name": "ipython",
    "version": 3
   },
   "file_extension": ".py",
   "mimetype": "text/x-python",
   "name": "python",
   "nbconvert_exporter": "python",
   "pygments_lexer": "ipython3",
   "version": "3.11.5"
  }
 },
 "nbformat": 4,
 "nbformat_minor": 5
}
